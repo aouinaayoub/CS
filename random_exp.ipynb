{
 "cells": [
  {
   "cell_type": "code",
   "execution_count": 2,
   "metadata": {},
   "outputs": [
    {
     "name": "stdout",
     "output_type": "stream",
     "text": [
      "[-6.062444459219021, -6.570374645641372, -3.3797388407503215, -2.2413409582829815, -4.429312244113975]\n"
     ]
    }
   ],
   "source": [
    "import random\n",
    "import math \n",
    "import numpy as np \n",
    "def exp_random(lamb,n):\n",
    "    norm= lamb*(math.exp(-1/lamb)-math.exp(-20/lamb))\n",
    "    data_x=[]\n",
    "    for i in range (n) : \n",
    "        y=random.uniform( 0.0, lamb/float(norm) )\n",
    "        x=-lamb*math.log1p(1-y*norm/lamb)\n",
    "        data_x.append(x)\n",
    "    return (data_x)\n",
    "print (exp_random(10,5))"
   ]
  },
  {
   "cell_type": "code",
   "execution_count": null,
   "metadata": {},
   "outputs": [],
   "source": []
  }
 ],
 "metadata": {
  "kernelspec": {
   "display_name": "Python 3",
   "language": "python",
   "name": "python3"
  },
  "language_info": {
   "codemirror_mode": {
    "name": "ipython",
    "version": 3
   },
   "file_extension": ".py",
   "mimetype": "text/x-python",
   "name": "python",
   "nbconvert_exporter": "python",
   "pygments_lexer": "ipython3",
   "version": "3.6.2"
  }
 },
 "nbformat": 4,
 "nbformat_minor": 2
}
