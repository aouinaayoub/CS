{
 "cells": [
  {
   "cell_type": "markdown",
   "metadata": {},
   "source": [
    "1) The point i is sampled uniformly in the square so : \n",
    "\n",
    "$$P(S_i=4)= \\frac{area_of_circle}{area_of_square}= \\frac{\\pi}{4}$$\n",
    "The mean value : \n",
    "$$ m= \\sum k P(S_i=k) = 0 + 4 \\times \n",
    "\\frac{\\pi}{4}= \\pi $$ \n",
    "The variance : \n",
    " $$\\Delta = E(S_i^2)-(E(S_i))^2= \\sum k^2 P(S_i=k) -m^2 = 16 \\times \\frac{\\pi}{4} - \\pi^2 = 4\\pi(1-\\frac{\\pi}{4})$$\n",
    " \n",
    "\n",
    "2) unbiased estimates of the mean and variance: \n",
    "\n",
    "a) The mean : \n",
    "$$ E(\\hat {m}) = E(\\frac{1}{N} \\sum S_i ) = \\frac{1}{N} \\sum E(S_i) = N \\times \\frac{m}{N}=m$$ Hence the mean estimator is unbiased\n",
    "\n",
    "b) The variance : \n",
    "\n",
    "   We have : \n",
    "   $$\\hat{\\Delta}= \\frac{1}{N-1} \\sum (S_i^2)-\\hat{m}^2)$$ \n",
    "   then : \n",
    "   $$ E(\\hat{\\Delta})= \\frac{1}{N-1} \\sum E(S_i^2-\\hat{m}^2) = \\frac{1}{N-1} [\\sum E(S_i^2) - N E(\\hat{m}^2)]$$\n",
    "\n",
    " and \n",
    "      $$ E(S_i^2)= \\Delta + m^2 $$ \n",
    "      $$ E(\\hat{m}^2) = Var (\\hat{m}) + E(\\hat{m}^2) = \\frac{1}{N^2}Var(\\sum S_i) + m^2$$ \n",
    "      \n",
    " We Know that  {$S_i$} are independents  so : $Var(\\sum S_i) = N Var(S_i)=\\Delta$\n",
    " \n",
    " It follows : \n",
    " $$ E(\\hat{m}^2) = \\frac{\\Delta}{N} + m^2$$\n",
    " Finally : \n",
    " \n",
    "$$ E(\\hat{\\Delta}) = \\frac{1}{N-1} ( N\\Delta +Nm^2 -N(\\frac{\\Delta}{N}+m^2)) = \\frac{1}{N-1} (N\\Delta + Nm^2-\\Delta -N m^2) = \\frac{N-1}{N-1} \\Delta = \\Delta $$\n",
    "\n",
    "3) \n",
    "We have : \n",
    "\n",
    "$Var( \\hat{m})= \\frac{\\Delta}{N})$ so the typical error is $\\sqrt{\\frac{\\Delta}{N} } = \\sqrt{\\frac{4\\pi-4\\pi^2}{N} }  $ "
   ]
  }
 ],
 "metadata": {
  "kernelspec": {
   "display_name": "Python 3",
   "language": "python",
   "name": "python3"
  },
  "language_info": {
   "codemirror_mode": {
    "name": "ipython",
    "version": 3
   },
   "file_extension": ".py",
   "mimetype": "text/x-python",
   "name": "python",
   "nbconvert_exporter": "python",
   "pygments_lexer": "ipython3",
   "version": "3.6.2"
  }
 },
 "nbformat": 4,
 "nbformat_minor": 2
}
